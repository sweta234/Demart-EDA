{
 "cells": [
  {
   "cell_type": "code",
   "execution_count": 1,
   "id": "922acdb3",
   "metadata": {},
   "outputs": [],
   "source": [
    "import numpy as np\n",
    "import pandas as pd\n",
    "import matplotlib.pyplot as plt"
   ]
  },
  {
   "cell_type": "code",
   "execution_count": 2,
   "id": "1d381a89",
   "metadata": {},
   "outputs": [],
   "source": [
    "df = pd.read_csv('piki_dataset.csv')"
   ]
  },
  {
   "cell_type": "code",
   "execution_count": 3,
   "id": "7ba5d099",
   "metadata": {},
   "outputs": [
    {
     "data": {
      "text/html": [
       "<div>\n",
       "<style scoped>\n",
       "    .dataframe tbody tr th:only-of-type {\n",
       "        vertical-align: middle;\n",
       "    }\n",
       "\n",
       "    .dataframe tbody tr th {\n",
       "        vertical-align: top;\n",
       "    }\n",
       "\n",
       "    .dataframe thead th {\n",
       "        text-align: right;\n",
       "    }\n",
       "</style>\n",
       "<table border=\"1\" class=\"dataframe\">\n",
       "  <thead>\n",
       "    <tr style=\"text-align: right;\">\n",
       "      <th></th>\n",
       "      <th>Unnamed: 0</th>\n",
       "      <th>liked</th>\n",
       "      <th>personalized</th>\n",
       "      <th>song_id</th>\n",
       "      <th>spotify_popularity</th>\n",
       "      <th>timestamp</th>\n",
       "      <th>user_id</th>\n",
       "    </tr>\n",
       "  </thead>\n",
       "  <tbody>\n",
       "    <tr>\n",
       "      <th>0</th>\n",
       "      <td>0</td>\n",
       "      <td>0</td>\n",
       "      <td>1</td>\n",
       "      <td>32192</td>\n",
       "      <td>87</td>\n",
       "      <td>2019-06-21 01:04:23</td>\n",
       "      <td>3720277</td>\n",
       "    </tr>\n",
       "    <tr>\n",
       "      <th>1</th>\n",
       "      <td>1</td>\n",
       "      <td>0</td>\n",
       "      <td>1</td>\n",
       "      <td>6801</td>\n",
       "      <td>45</td>\n",
       "      <td>2019-06-21 01:04:33</td>\n",
       "      <td>3720277</td>\n",
       "    </tr>\n",
       "    <tr>\n",
       "      <th>2</th>\n",
       "      <td>2</td>\n",
       "      <td>0</td>\n",
       "      <td>1</td>\n",
       "      <td>31643</td>\n",
       "      <td>62</td>\n",
       "      <td>2019-06-21 01:04:35</td>\n",
       "      <td>3720277</td>\n",
       "    </tr>\n",
       "    <tr>\n",
       "      <th>3</th>\n",
       "      <td>3</td>\n",
       "      <td>0</td>\n",
       "      <td>1</td>\n",
       "      <td>1864239</td>\n",
       "      <td>72</td>\n",
       "      <td>2019-06-21 01:04:48</td>\n",
       "      <td>3720277</td>\n",
       "    </tr>\n",
       "    <tr>\n",
       "      <th>4</th>\n",
       "      <td>4</td>\n",
       "      <td>0</td>\n",
       "      <td>1</td>\n",
       "      <td>38804</td>\n",
       "      <td>73</td>\n",
       "      <td>2019-06-21 01:05:13</td>\n",
       "      <td>3720277</td>\n",
       "    </tr>\n",
       "    <tr>\n",
       "      <th>...</th>\n",
       "      <td>...</td>\n",
       "      <td>...</td>\n",
       "      <td>...</td>\n",
       "      <td>...</td>\n",
       "      <td>...</td>\n",
       "      <td>...</td>\n",
       "      <td>...</td>\n",
       "    </tr>\n",
       "    <tr>\n",
       "      <th>1017942</th>\n",
       "      <td>1017942</td>\n",
       "      <td>1</td>\n",
       "      <td>2</td>\n",
       "      <td>1915602</td>\n",
       "      <td>63</td>\n",
       "      <td>2022-06-12 17:53:08</td>\n",
       "      <td>3741780</td>\n",
       "    </tr>\n",
       "    <tr>\n",
       "      <th>1017943</th>\n",
       "      <td>1017943</td>\n",
       "      <td>0</td>\n",
       "      <td>2</td>\n",
       "      <td>4118250</td>\n",
       "      <td>56</td>\n",
       "      <td>2022-06-12 17:53:15</td>\n",
       "      <td>3741780</td>\n",
       "    </tr>\n",
       "    <tr>\n",
       "      <th>1017944</th>\n",
       "      <td>1017944</td>\n",
       "      <td>1</td>\n",
       "      <td>2</td>\n",
       "      <td>4161727</td>\n",
       "      <td>78</td>\n",
       "      <td>2022-06-12 17:53:25</td>\n",
       "      <td>3741780</td>\n",
       "    </tr>\n",
       "    <tr>\n",
       "      <th>1017945</th>\n",
       "      <td>1017945</td>\n",
       "      <td>0</td>\n",
       "      <td>2</td>\n",
       "      <td>4111176</td>\n",
       "      <td>68</td>\n",
       "      <td>2022-06-12 17:53:29</td>\n",
       "      <td>3741780</td>\n",
       "    </tr>\n",
       "    <tr>\n",
       "      <th>1017946</th>\n",
       "      <td>1017946</td>\n",
       "      <td>1</td>\n",
       "      <td>2</td>\n",
       "      <td>4100637</td>\n",
       "      <td>80</td>\n",
       "      <td>2022-06-12 17:53:39</td>\n",
       "      <td>3741780</td>\n",
       "    </tr>\n",
       "  </tbody>\n",
       "</table>\n",
       "<p>1017947 rows × 7 columns</p>\n",
       "</div>"
      ],
      "text/plain": [
       "         Unnamed: 0  liked  personalized  song_id  spotify_popularity  \\\n",
       "0                 0      0             1    32192                  87   \n",
       "1                 1      0             1     6801                  45   \n",
       "2                 2      0             1    31643                  62   \n",
       "3                 3      0             1  1864239                  72   \n",
       "4                 4      0             1    38804                  73   \n",
       "...             ...    ...           ...      ...                 ...   \n",
       "1017942     1017942      1             2  1915602                  63   \n",
       "1017943     1017943      0             2  4118250                  56   \n",
       "1017944     1017944      1             2  4161727                  78   \n",
       "1017945     1017945      0             2  4111176                  68   \n",
       "1017946     1017946      1             2  4100637                  80   \n",
       "\n",
       "                   timestamp  user_id  \n",
       "0        2019-06-21 01:04:23  3720277  \n",
       "1        2019-06-21 01:04:33  3720277  \n",
       "2        2019-06-21 01:04:35  3720277  \n",
       "3        2019-06-21 01:04:48  3720277  \n",
       "4        2019-06-21 01:05:13  3720277  \n",
       "...                      ...      ...  \n",
       "1017942  2022-06-12 17:53:08  3741780  \n",
       "1017943  2022-06-12 17:53:15  3741780  \n",
       "1017944  2022-06-12 17:53:25  3741780  \n",
       "1017945  2022-06-12 17:53:29  3741780  \n",
       "1017946  2022-06-12 17:53:39  3741780  \n",
       "\n",
       "[1017947 rows x 7 columns]"
      ]
     },
     "execution_count": 3,
     "metadata": {},
     "output_type": "execute_result"
    }
   ],
   "source": [
    "df"
   ]
  },
  {
   "cell_type": "code",
   "execution_count": 4,
   "id": "2b16f6e3",
   "metadata": {},
   "outputs": [
    {
     "data": {
      "text/plain": [
       "Unnamed: 0            0\n",
       "liked                 0\n",
       "personalized          0\n",
       "song_id               0\n",
       "spotify_popularity    0\n",
       "timestamp             0\n",
       "user_id               0\n",
       "dtype: int64"
      ]
     },
     "execution_count": 4,
     "metadata": {},
     "output_type": "execute_result"
    }
   ],
   "source": [
    "df.isnull().sum()"
   ]
  },
  {
   "cell_type": "code",
   "execution_count": 5,
   "id": "816ed0ae",
   "metadata": {},
   "outputs": [
    {
     "data": {
      "text/plain": [
       "79    24846\n",
       "57    24118\n",
       "55    23708\n",
       "54    22935\n",
       "59    22604\n",
       "Name: spotify_popularity, dtype: int64"
      ]
     },
     "execution_count": 5,
     "metadata": {},
     "output_type": "execute_result"
    }
   ],
   "source": [
    "df['spotify_popularity'].value_counts().head()"
   ]
  },
  {
   "cell_type": "code",
   "execution_count": 6,
   "id": "9b38c60b",
   "metadata": {},
   "outputs": [
    {
     "data": {
      "text/plain": [
       "array([ 87,  45,  62,  72,  73,  69,  59,  60,  85,  80,  68,  91,  15,\n",
       "        82,  65,  57,  66,  56,  71,  70,  53,  75,  40,  39,  64,  86,\n",
       "        52,  48,  55,   0,  50,  49,  25,  54,  44,  16,  78,  32,  74,\n",
       "        47,  79,  63,  37,  51,  93,  43,  90,  81,  61,  33,  46,  38,\n",
       "        34,  21,  35,  28,  36,  67,  41,  42,  29,  27,  58,  31,  24,\n",
       "         1,   6,  23,  26,   8,  22,   4,   7,   9,  20,  30,  14,  19,\n",
       "        76,  18,  11,  13,  17,  77,  10,   3,   5,  84,  88,  83,  96,\n",
       "        89,   2,  97,  98,  92,  94,  95,  12, 100], dtype=int64)"
      ]
     },
     "execution_count": 6,
     "metadata": {},
     "output_type": "execute_result"
    }
   ],
   "source": [
    "df['spotify_popularity'].unique()"
   ]
  },
  {
   "cell_type": "code",
   "execution_count": 7,
   "id": "5734a693",
   "metadata": {},
   "outputs": [
    {
     "data": {
      "text/plain": [
       "0    603957\n",
       "1    354354\n",
       "2     59636\n",
       "Name: liked, dtype: int64"
      ]
     },
     "execution_count": 7,
     "metadata": {},
     "output_type": "execute_result"
    }
   ],
   "source": [
    "df['liked'].value_counts()"
   ]
  },
  {
   "cell_type": "code",
   "execution_count": 8,
   "id": "d8cff034",
   "metadata": {},
   "outputs": [
    {
     "data": {
      "text/plain": [
       "1    848989\n",
       "0    113263\n",
       "2     55695\n",
       "Name: personalized, dtype: int64"
      ]
     },
     "execution_count": 8,
     "metadata": {},
     "output_type": "execute_result"
    }
   ],
   "source": [
    "df['personalized'].value_counts()"
   ]
  },
  {
   "cell_type": "code",
   "execution_count": 9,
   "id": "73099804",
   "metadata": {},
   "outputs": [],
   "source": [
    "import seaborn as sns"
   ]
  },
  {
   "cell_type": "code",
   "execution_count": 10,
   "id": "9f92a6c9",
   "metadata": {},
   "outputs": [
    {
     "data": {
      "text/plain": [
       "2469655    1607\n",
       "3463       1323\n",
       "1049       1299\n",
       "5037296    1265\n",
       "540        1180\n",
       "Name: song_id, dtype: int64"
      ]
     },
     "execution_count": 10,
     "metadata": {},
     "output_type": "execute_result"
    }
   ],
   "source": [
    "df['song_id'].value_counts().head()"
   ]
  },
  {
   "cell_type": "code",
   "execution_count": 11,
   "id": "5bafd1ae",
   "metadata": {},
   "outputs": [],
   "source": [
    "# OUTLIER"
   ]
  },
  {
   "cell_type": "code",
   "execution_count": 12,
   "id": "db80be5d",
   "metadata": {},
   "outputs": [
    {
     "name": "stderr",
     "output_type": "stream",
     "text": [
      "C:\\Users\\win10\\anaconda3\\lib\\site-packages\\seaborn\\_decorators.py:36: FutureWarning: Pass the following variable as a keyword arg: x. From version 0.12, the only valid positional argument will be `data`, and passing other arguments without an explicit keyword will result in an error or misinterpretation.\n",
      "  warnings.warn(\n"
     ]
    },
    {
     "data": {
      "text/plain": [
       "<AxesSubplot:xlabel='song_id'>"
      ]
     },
     "execution_count": 12,
     "metadata": {},
     "output_type": "execute_result"
    },
    {
     "data": {
      "image/png": "[encoded data removed]",
      "text/plain": [
       "<Figure size 432x288 with 1 Axes>"
      ]
     },
     "metadata": {
      "needs_background": "light"
     },
     "output_type": "display_data"
    }
   ],
   "source": [
    "sns.boxplot(df['song_id'])"
   ]
  },
  {
   "cell_type": "code",
   "execution_count": 13,
   "id": "aae4b63e",
   "metadata": {},
   "outputs": [
    {
     "name": "stderr",
     "output_type": "stream",
     "text": [
      "C:\\Users\\win10\\anaconda3\\lib\\site-packages\\seaborn\\_decorators.py:36: FutureWarning: Pass the following variable as a keyword arg: x. From version 0.12, the only valid positional argument will be `data`, and passing other arguments without an explicit keyword will result in an error or misinterpretation.\n",
      "  warnings.warn(\n"
     ]
    },
    {
     "data": {
      "text/plain": [
       "<AxesSubplot:xlabel='personalized'>"
      ]
     },
     "execution_count": 13,
     "metadata": {},
     "output_type": "execute_result"
    },
    {
     "data": {
      "image/png": "[encoded data removed]",
      "text/plain": [
       "<Figure size 432x288 with 1 Axes>"
      ]
     },
     "metadata": {
      "needs_background": "light"
     },
     "output_type": "display_data"
    }
   ],
   "source": [
    "sns.boxplot(df['personalized'])\n"
   ]
  },
  {
   "cell_type": "code",
   "execution_count": 14,
   "id": "91b8eb1b",
   "metadata": {},
   "outputs": [
    {
     "name": "stderr",
     "output_type": "stream",
     "text": [
      "C:\\Users\\win10\\anaconda3\\lib\\site-packages\\seaborn\\_decorators.py:36: FutureWarning: Pass the following variable as a keyword arg: x. From version 0.12, the only valid positional argument will be `data`, and passing other arguments without an explicit keyword will result in an error or misinterpretation.\n",
      "  warnings.warn(\n"
     ]
    },
    {
     "data": {
      "text/plain": [
       "<AxesSubplot:xlabel='liked'>"
      ]
     },
     "execution_count": 14,
     "metadata": {},
     "output_type": "execute_result"
    },
    {
     "data": {
      "image/png": "[encoded data removed]",
      "text/plain": [
       "<Figure size 432x288 with 1 Axes>"
      ]
     },
     "metadata": {
      "needs_background": "light"
     },
     "output_type": "display_data"
    }
   ],
   "source": [
    "sns.boxplot(df['liked'])\n"
   ]
  },
  {
   "cell_type": "code",
   "execution_count": 15,
   "id": "4f181252",
   "metadata": {},
   "outputs": [
    {
     "data": {
      "text/html": [
       "<div>\n",
       "<style scoped>\n",
       "    .dataframe tbody tr th:only-of-type {\n",
       "        vertical-align: middle;\n",
       "    }\n",
       "\n",
       "    .dataframe tbody tr th {\n",
       "        vertical-align: top;\n",
       "    }\n",
       "\n",
       "    .dataframe thead th {\n",
       "        text-align: right;\n",
       "    }\n",
       "</style>\n",
       "<table border=\"1\" class=\"dataframe\">\n",
       "  <thead>\n",
       "    <tr style=\"text-align: right;\">\n",
       "      <th></th>\n",
       "      <th>Unnamed: 0</th>\n",
       "      <th>liked</th>\n",
       "      <th>personalized</th>\n",
       "      <th>song_id</th>\n",
       "      <th>spotify_popularity</th>\n",
       "      <th>timestamp</th>\n",
       "      <th>user_id</th>\n",
       "    </tr>\n",
       "  </thead>\n",
       "  <tbody>\n",
       "    <tr>\n",
       "      <th>0</th>\n",
       "      <td>0</td>\n",
       "      <td>0</td>\n",
       "      <td>1</td>\n",
       "      <td>32192</td>\n",
       "      <td>87</td>\n",
       "      <td>2019-06-21 01:04:23</td>\n",
       "      <td>3720277</td>\n",
       "    </tr>\n",
       "    <tr>\n",
       "      <th>1</th>\n",
       "      <td>1</td>\n",
       "      <td>0</td>\n",
       "      <td>1</td>\n",
       "      <td>6801</td>\n",
       "      <td>45</td>\n",
       "      <td>2019-06-21 01:04:33</td>\n",
       "      <td>3720277</td>\n",
       "    </tr>\n",
       "    <tr>\n",
       "      <th>2</th>\n",
       "      <td>2</td>\n",
       "      <td>0</td>\n",
       "      <td>1</td>\n",
       "      <td>31643</td>\n",
       "      <td>62</td>\n",
       "      <td>2019-06-21 01:04:35</td>\n",
       "      <td>3720277</td>\n",
       "    </tr>\n",
       "    <tr>\n",
       "      <th>3</th>\n",
       "      <td>3</td>\n",
       "      <td>0</td>\n",
       "      <td>1</td>\n",
       "      <td>1864239</td>\n",
       "      <td>72</td>\n",
       "      <td>2019-06-21 01:04:48</td>\n",
       "      <td>3720277</td>\n",
       "    </tr>\n",
       "    <tr>\n",
       "      <th>4</th>\n",
       "      <td>4</td>\n",
       "      <td>0</td>\n",
       "      <td>1</td>\n",
       "      <td>38804</td>\n",
       "      <td>73</td>\n",
       "      <td>2019-06-21 01:05:13</td>\n",
       "      <td>3720277</td>\n",
       "    </tr>\n",
       "  </tbody>\n",
       "</table>\n",
       "</div>"
      ],
      "text/plain": [
       "   Unnamed: 0  liked  personalized  song_id  spotify_popularity  \\\n",
       "0           0      0             1    32192                  87   \n",
       "1           1      0             1     6801                  45   \n",
       "2           2      0             1    31643                  62   \n",
       "3           3      0             1  1864239                  72   \n",
       "4           4      0             1    38804                  73   \n",
       "\n",
       "             timestamp  user_id  \n",
       "0  2019-06-21 01:04:23  3720277  \n",
       "1  2019-06-21 01:04:33  3720277  \n",
       "2  2019-06-21 01:04:35  3720277  \n",
       "3  2019-06-21 01:04:48  3720277  \n",
       "4  2019-06-21 01:05:13  3720277  "
      ]
     },
     "execution_count": 15,
     "metadata": {},
     "output_type": "execute_result"
    }
   ],
   "source": [
    "df.head()"
   ]
  },
  {
   "cell_type": "code",
   "execution_count": 18,
   "id": "13dd1961",
   "metadata": {},
   "outputs": [],
   "source": [
    "df['Date'] = pd.to_datetime(df['timestamp']).dt.date\n"
   ]
  },
  {
   "cell_type": "code",
   "execution_count": 20,
   "id": "0b2ce5b6",
   "metadata": {},
   "outputs": [],
   "source": [
    "df.drop('timestamp', axis = 1 , inplace = True)"
   ]
  },
  {
   "cell_type": "code",
   "execution_count": 21,
   "id": "db86f1bf",
   "metadata": {},
   "outputs": [
    {
     "data": {
      "text/html": [
       "<div>\n",
       "<style scoped>\n",
       "    .dataframe tbody tr th:only-of-type {\n",
       "        vertical-align: middle;\n",
       "    }\n",
       "\n",
       "    .dataframe tbody tr th {\n",
       "        vertical-align: top;\n",
       "    }\n",
       "\n",
       "    .dataframe thead th {\n",
       "        text-align: right;\n",
       "    }\n",
       "</style>\n",
       "<table border=\"1\" class=\"dataframe\">\n",
       "  <thead>\n",
       "    <tr style=\"text-align: right;\">\n",
       "      <th></th>\n",
       "      <th>Unnamed: 0</th>\n",
       "      <th>liked</th>\n",
       "      <th>personalized</th>\n",
       "      <th>song_id</th>\n",
       "      <th>spotify_popularity</th>\n",
       "      <th>user_id</th>\n",
       "      <th>Date</th>\n",
       "    </tr>\n",
       "  </thead>\n",
       "  <tbody>\n",
       "    <tr>\n",
       "      <th>0</th>\n",
       "      <td>0</td>\n",
       "      <td>0</td>\n",
       "      <td>1</td>\n",
       "      <td>32192</td>\n",
       "      <td>87</td>\n",
       "      <td>3720277</td>\n",
       "      <td>2019-06-21</td>\n",
       "    </tr>\n",
       "    <tr>\n",
       "      <th>1</th>\n",
       "      <td>1</td>\n",
       "      <td>0</td>\n",
       "      <td>1</td>\n",
       "      <td>6801</td>\n",
       "      <td>45</td>\n",
       "      <td>3720277</td>\n",
       "      <td>2019-06-21</td>\n",
       "    </tr>\n",
       "    <tr>\n",
       "      <th>2</th>\n",
       "      <td>2</td>\n",
       "      <td>0</td>\n",
       "      <td>1</td>\n",
       "      <td>31643</td>\n",
       "      <td>62</td>\n",
       "      <td>3720277</td>\n",
       "      <td>2019-06-21</td>\n",
       "    </tr>\n",
       "    <tr>\n",
       "      <th>3</th>\n",
       "      <td>3</td>\n",
       "      <td>0</td>\n",
       "      <td>1</td>\n",
       "      <td>1864239</td>\n",
       "      <td>72</td>\n",
       "      <td>3720277</td>\n",
       "      <td>2019-06-21</td>\n",
       "    </tr>\n",
       "    <tr>\n",
       "      <th>4</th>\n",
       "      <td>4</td>\n",
       "      <td>0</td>\n",
       "      <td>1</td>\n",
       "      <td>38804</td>\n",
       "      <td>73</td>\n",
       "      <td>3720277</td>\n",
       "      <td>2019-06-21</td>\n",
       "    </tr>\n",
       "  </tbody>\n",
       "</table>\n",
       "</div>"
      ],
      "text/plain": [
       "   Unnamed: 0  liked  personalized  song_id  spotify_popularity  user_id  \\\n",
       "0           0      0             1    32192                  87  3720277   \n",
       "1           1      0             1     6801                  45  3720277   \n",
       "2           2      0             1    31643                  62  3720277   \n",
       "3           3      0             1  1864239                  72  3720277   \n",
       "4           4      0             1    38804                  73  3720277   \n",
       "\n",
       "         Date  \n",
       "0  2019-06-21  \n",
       "1  2019-06-21  \n",
       "2  2019-06-21  \n",
       "3  2019-06-21  \n",
       "4  2019-06-21  "
      ]
     },
     "execution_count": 21,
     "metadata": {},
     "output_type": "execute_result"
    }
   ],
   "source": [
    "df.head()"
   ]
  },
  {
   "cell_type": "code",
   "execution_count": 22,
   "id": "0cebc1ae",
   "metadata": {},
   "outputs": [
    {
     "data": {
      "text/plain": [
       "<AxesSubplot:xlabel='liked', ylabel='personalized'>"
      ]
     },
     "execution_count": 22,
     "metadata": {},
     "output_type": "execute_result"
    },
    {
     "data": {
      "image/png": "[encoded data removed]",
      "text/plain": [
       "<Figure size 432x288 with 1 Axes>"
      ]
     },
     "metadata": {
      "needs_background": "light"
     },
     "output_type": "display_data"
    }
   ],
   "source": [
    "sns.barplot(x = df['liked'].value_counts() , y = df['personalized'].value_counts() , data = df)"
   ]
  },
  {
   "cell_type": "code",
   "execution_count": 27,
   "id": "7b7aec38",
   "metadata": {},
   "outputs": [
    {
     "data": {
      "text/plain": [
       "<AxesSubplot:xlabel='personalized', ylabel='spotify_popularity'>"
      ]
     },
     "execution_count": 27,
     "metadata": {},
     "output_type": "execute_result"
    },
    {
     "data": {
      "image/png": "[encoded data removed]",
      "text/plain": [
       "<Figure size 432x288 with 1 Axes>"
      ]
     },
     "metadata": {
      "needs_background": "light"
     },
     "output_type": "display_data"
    }
   ],
   "source": [
    "sns.barplot(x = df['personalized'].value_counts(), y = df['spotify_popularity'].value_counts(), data = df)"
   ]
  },
  {
   "cell_type": "code",
   "execution_count": 29,
   "id": "25072952",
   "metadata": {},
   "outputs": [
    {
     "data": {
      "text/plain": [
       "3738975    29878\n",
       "3738011    21328\n",
       "3732204    20383\n",
       "3733382    18991\n",
       "3732343    17102\n",
       "Name: user_id, dtype: int64"
      ]
     },
     "execution_count": 29,
     "metadata": {},
     "output_type": "execute_result"
    }
   ],
   "source": [
    "df['user_id'].value_counts().head()"
   ]
  },
  {
   "cell_type": "code",
   "execution_count": 35,
   "id": "3e9f0114",
   "metadata": {},
   "outputs": [
    {
     "data": {
      "text/plain": [
       "<AxesSubplot:xlabel='song_id', ylabel='spotify_popularity'>"
      ]
     },
     "execution_count": 35,
     "metadata": {},
     "output_type": "execute_result"
    },
    {
     "data": {
      "image/png": "[encoded data removed]",
      "text/plain": [
       "<Figure size 432x288 with 1 Axes>"
      ]
     },
     "metadata": {
      "needs_background": "light"
     },
     "output_type": "display_data"
    }
   ],
   "source": [
    "sns.barplot(x = df['song_id'].value_counts().head(), y = df['spotify_popularity'].value_counts(), data = df)"
   ]
  },
  {
   "cell_type": "code",
   "execution_count": null,
   "id": "b6e39a33",
   "metadata": {},
   "outputs": [],
   "source": []
  }
 ],
 "metadata": {
  "kernelspec": {
   "display_name": "Python 3 (ipykernel)",
   "language": "python",
   "name": "python3"
  },
  "language_info": {
   "codemirror_mode": {
    "name": "ipython",
    "version": 3
   },
   "file_extension": ".py",
   "mimetype": "text/x-python",
   "name": "python",
   "nbconvert_exporter": "python",
   "pygments_lexer": "ipython3",
   "version": "3.9.7"
  }
 },
 "nbformat": 4,
 "nbformat_minor": 5
}
